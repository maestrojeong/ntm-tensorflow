{
 "cells": [
  {
   "cell_type": "code",
   "execution_count": 1,
   "metadata": {
    "collapsed": true
   },
   "outputs": [],
   "source": [
    "import tensorflow as tf\n",
    "import numpy as np\n",
    "import scipy.linalg as ln\n",
    "from model.ntm_ops import *\n",
    "%load_ext autoreload\n",
    "%autoreload 2"
   ]
  },
  {
   "cell_type": "code",
   "execution_count": 2,
   "metadata": {
    "collapsed": false
   },
   "outputs": [],
   "source": [
    "shift_conv = ln.circulant(np.arange(20)).T[\n",
    "            np.arange(-(3 // 2), (3 // 2) + 1)\n",
    "        ][::-1]"
   ]
  },
  {
   "cell_type": "code",
   "execution_count": 6,
   "metadata": {
    "collapsed": true
   },
   "outputs": [],
   "source": [
    "sess = tf.InteractiveSession()"
   ]
  },
  {
   "cell_type": "code",
   "execution_count": 11,
   "metadata": {
    "collapsed": false
   },
   "outputs": [],
   "source": [
    "def difference(x, y):\n",
    "    return np.mean(np.sum(np.square(x - y), axis=1))"
   ]
  },
  {
   "cell_type": "markdown",
   "metadata": {},
   "source": [
    "## Introduction\n",
    "Neural Turing Machines combined the ability of Turing Machine and Neural Networks to infer simple algorithms. The controller (it's usually a LSTM) can be viewed as CPU and the external memory can be seen as RAM. \n",
    "\n",
    "A NTM has four components: Controller, read heads, write heads, and an external memory. \n",
    "\n",
    "High level overview:\n",
    "1. Addressing: Addressing mechanism is used to produce the weightings of each head. There are two types of adrressing, content based and location based. At every time step, the controller outputs five elements to produce weightings of each head: key vector, key strength, interpolation gate, shift weighting, and a scalar that used to sharpen the weightings. \n",
    "2. Read: each read head has a weighting vector tells how much degree of information we read from on each memory location\n",
    "3. Write: each write head has a weighting vector, an erase vector and an add vector. This is inspired by LSTM's forget gate and input gate. "
   ]
  },
  {
   "cell_type": "markdown",
   "metadata": {},
   "source": [
    "## Section 1 Hyper parameters"
   ]
  },
  {
   "cell_type": "markdown",
   "metadata": {},
   "source": [
    "### 1.1 Memory matrix\n",
    "Define two hyper parameters for the memory matrix: $N \\times M$, where $N$ is the number of memory locations, $M$ is the vector size at each memory location"
   ]
  },
  {
   "cell_type": "code",
   "execution_count": 3,
   "metadata": {
    "collapsed": false
   },
   "outputs": [],
   "source": [
    "# N memory locations and each has M elements\n",
    "N, M = 128, 20\n",
    "# batch size\n",
    "batch_size = 1"
   ]
  },
  {
   "cell_type": "markdown",
   "metadata": {},
   "source": [
    "### 1.2 Controller dimension\n",
    "Define the LSTM hidden state dimension h and stacked hidden layer number a. This is the same as tradition LSTM with the hidden state and cell state.\n",
    "\n",
    "Define the output and input dimension, in NTM, it usually is how many bits per sequence. e.g. If one of the input sequence is [0, 1, 0, 1, 0, 1], then it should be 6."
   ]
  },
  {
   "cell_type": "code",
   "execution_count": 4,
   "metadata": {
    "collapsed": true
   },
   "outputs": [],
   "source": [
    "a, h = 1, 100\n",
    "input_dim = 8"
   ]
  },
  {
   "cell_type": "markdown",
   "metadata": {},
   "source": [
    "### 1.3 The range of allowed location shift\n",
    "Define the range of the allowed location shift in location based addressing (Convolutional shift), s. e.g. if s = 3, then allowed location shift will be [-1, 0, 1]"
   ]
  },
  {
   "cell_type": "code",
   "execution_count": 5,
   "metadata": {
    "collapsed": true
   },
   "outputs": [],
   "source": [
    "s = 3"
   ]
  },
  {
   "cell_type": "markdown",
   "metadata": {},
   "source": [
    "## Section 2 Controller (LSTM)\n",
    "At every time step the controller outputs weighting of each head and hidden states(including cell states in original LSTM).. The weighting is determined by addressing mechanism:\n",
    "1. Content Addressing\n",
    "2. Interpolation\n",
    "3. Convolutional Shift\n",
    "4. Sharpening"
   ]
  },
  {
   "cell_type": "code",
   "execution_count": 50,
   "metadata": {
    "collapsed": false
   },
   "outputs": [
    {
     "name": "stdout",
     "output_type": "stream",
     "text": [
      "Tensor(\"content_weighting_13:0\", shape=(1, 6), dtype=float32)\n"
     ]
    }
   ],
   "source": [
    "# 1. content based addressing, cosine similarity test\n",
    "key_vector = tf.constant(dtype=tf.float32, value=np.array([\n",
    "            [3, 4, 10, 11]\n",
    "        ]))\n",
    "memory = tf.constant(dtype=tf.float32, value=np.array([\n",
    "            [\n",
    "                [6, 8, 12, 0],\n",
    "                [1, 2, 2, 3],\n",
    "                [2, 3, 4, 10],\n",
    "                [2, 3, 2, 10],\n",
    "                [2, 3, 6, 0],\n",
    "                [12, 23, 4, 10]\n",
    "            ]\n",
    "        ]))\n",
    "result = sess.run(cosine_similarity(key_vector, memory))\n",
    "# print \"difference\", difference(np.array([[ 1.        ,  0.98386991,  0.99846041]]), result)\n",
    "# 2. content based addressing \n",
    "key_strength = tf.constant(value=3, shape=(1, 1), dtype=tf.float32)\n",
    "result = tf.mul(key_strength, result)\n",
    "w = tf.nn.softmax(result, name=\"content_weighting\")\n",
    "w = sess.run(w)"
   ]
  },
  {
   "cell_type": "code",
   "execution_count": 69,
   "metadata": {
    "collapsed": true
   },
   "outputs": [],
   "source": [
    "def shift(w_gt, s_t):\n",
    "    \"\"\"\n",
    "    Perform the shifting operation as described in equation 8 from the paper.\n",
    "    \"\"\"\n",
    "\n",
    "    # This function could be more performant.\n",
    "    N = w_gt.size\n",
    "\n",
    "    backward = [1, 0, 0]\n",
    "    same     = [0, 1, 0]\n",
    "    forward  = [0, 0, 1]\n",
    "    null     = [0, 0, 0]\n",
    "\n",
    "    restrictionList = []\n",
    "    for i in range(0, N):\n",
    "        if i == 0:\n",
    "            restrictionList.append(backward)\n",
    "        elif i == 1:\n",
    "            restrictionList.append(same)\n",
    "        elif i == N-1:\n",
    "            restrictionList.append(forward)\n",
    "        else:\n",
    "            restrictionList.append(null)\n",
    "    rT = np.array(restrictionList)\n",
    "\n",
    "    if N >= 3:\n",
    "        s_t = np.dot(rT, s_t)\n",
    "    print s_t, rT\n",
    "    sums = []\n",
    "    for i in range(N):\n",
    "        sums.append(0)\n",
    "        for j in range(N):\n",
    "            print sums, i, (i - j) % N, i - j\n",
    "            sums[i] += w_gt[j] * s_t[(i - j) % N]\n",
    "\n",
    "    return np.array(sums)\n"
   ]
  },
  {
   "cell_type": "code",
   "execution_count": 72,
   "metadata": {
    "collapsed": false
   },
   "outputs": [
    {
     "name": "stdout",
     "output_type": "stream",
     "text": [
      "[ 0.1  0.3  0.   0.   0.   0.5] [[1 0 0]\n",
      " [0 1 0]\n",
      " [0 0 0]\n",
      " [0 0 0]\n",
      " [0 0 0]\n",
      " [0 0 1]]\n",
      "[0] 0 0 0\n",
      "[0.10000000000000001] 0 5 -1\n",
      "[1.1000000000000001] 0 4 -2\n",
      "[1.1000000000000001] 0 3 -3\n",
      "[1.1000000000000001] 0 2 -4\n",
      "[1.1000000000000001] 0 1 -5\n",
      "[2.8999999999999999, 0] 1 1 1\n",
      "[2.8999999999999999, 0.29999999999999999] 1 0 0\n",
      "[2.8999999999999999, 0.5] 1 5 -1\n",
      "[2.8999999999999999, 2.0] 1 4 -2\n",
      "[2.8999999999999999, 2.0] 1 3 -3\n",
      "[2.8999999999999999, 2.0] 1 2 -4\n",
      "[2.8999999999999999, 2.0, 0] 2 2 2\n",
      "[2.8999999999999999, 2.0, 0.0] 2 1 1\n",
      "[2.8999999999999999, 2.0, 0.59999999999999998] 2 0 0\n",
      "[2.8999999999999999, 2.0, 0.90000000000000002] 2 5 -1\n",
      "[2.8999999999999999, 2.0, 2.8999999999999999] 2 4 -2\n",
      "[2.8999999999999999, 2.0, 2.8999999999999999] 2 3 -3\n",
      "[2.8999999999999999, 2.0, 2.8999999999999999, 0] 3 3 3\n",
      "[2.8999999999999999, 2.0, 2.8999999999999999, 0.0] 3 2 2\n",
      "[2.8999999999999999, 2.0, 2.8999999999999999, 0.0] 3 1 1\n",
      "[2.8999999999999999, 2.0, 2.8999999999999999, 0.89999999999999991] 3 0 0\n",
      "[2.8999999999999999, 2.0, 2.8999999999999999, 1.2999999999999998] 3 5 -1\n",
      "[2.8999999999999999, 2.0, 2.8999999999999999, 3.7999999999999998] 3 4 -2\n",
      "[2.8999999999999999, 2.0, 2.8999999999999999, 3.7999999999999998, 0] 4 4 4\n",
      "[2.8999999999999999, 2.0, 2.8999999999999999, 3.7999999999999998, 0.0] 4 3 3\n",
      "[2.8999999999999999, 2.0, 2.8999999999999999, 3.7999999999999998, 0.0] 4 2 2\n",
      "[2.8999999999999999, 2.0, 2.8999999999999999, 3.7999999999999998, 0.0] 4 1 1\n",
      "[2.8999999999999999, 2.0, 2.8999999999999999, 3.7999999999999998, 1.2] 4 0 0\n",
      "[2.8999999999999999, 2.0, 2.8999999999999999, 3.7999999999999998, 1.7] 4 5 -1\n",
      "[2.8999999999999999, 2.0, 2.8999999999999999, 3.7999999999999998, 4.7000000000000002, 0] 5 5 5\n",
      "[2.8999999999999999, 2.0, 2.8999999999999999, 3.7999999999999998, 4.7000000000000002, 0.5] 5 4 4\n",
      "[2.8999999999999999, 2.0, 2.8999999999999999, 3.7999999999999998, 4.7000000000000002, 0.5] 5 3 3\n",
      "[2.8999999999999999, 2.0, 2.8999999999999999, 3.7999999999999998, 4.7000000000000002, 0.5] 5 2 2\n",
      "[2.8999999999999999, 2.0, 2.8999999999999999, 3.7999999999999998, 4.7000000000000002, 0.5] 5 1 1\n",
      "[2.8999999999999999, 2.0, 2.8999999999999999, 3.7999999999999998, 4.7000000000000002, 2.0] 5 0 0\n"
     ]
    },
    {
     "data": {
      "text/plain": [
       "array([ 2.9,  2. ,  2.9,  3.8,  4.7,  2.6])"
      ]
     },
     "execution_count": 72,
     "metadata": {},
     "output_type": "execute_result"
    }
   ],
   "source": [
    "shift(np.array([1, 2, 3, 4, 5, 6]), np.array([0.1 ,0.3, 0.5]))"
   ]
  },
  {
   "cell_type": "code",
   "execution_count": 52,
   "metadata": {
    "collapsed": false
   },
   "outputs": [
    {
     "data": {
      "text/plain": [
       "array([[ 0.11194521,  0.2500605 ,  0.23641504,  0.19122924,  0.11764689,\n",
       "         0.09270298]], dtype=float32)"
      ]
     },
     "execution_count": 52,
     "metadata": {},
     "output_type": "execute_result"
    }
   ],
   "source": [
    "w"
   ]
  },
  {
   "cell_type": "code",
   "execution_count": 75,
   "metadata": {
    "collapsed": false
   },
   "outputs": [
    {
     "data": {
      "text/plain": [
       "array([[-2,  2,  1,  0, -1],\n",
       "       [-1, -2,  2,  1,  0],\n",
       "       [ 0, -1, -2,  2,  1],\n",
       "       [ 1,  0, -1, -2,  2],\n",
       "       [ 2,  1,  0, -1, -2]])"
      ]
     },
     "execution_count": 75,
     "metadata": {},
     "output_type": "execute_result"
    }
   ],
   "source": [
    "ln.circulant([-2, -1, 0, 1, 2])"
   ]
  },
  {
   "cell_type": "code",
   "execution_count": null,
   "metadata": {
    "collapsed": true
   },
   "outputs": [],
   "source": []
  }
 ],
 "metadata": {
  "anaconda-cloud": {},
  "kernelspec": {
   "display_name": "Python [default]",
   "language": "python",
   "name": "python2"
  },
  "language_info": {
   "codemirror_mode": {
    "name": "ipython",
    "version": 2
   },
   "file_extension": ".py",
   "mimetype": "text/x-python",
   "name": "python",
   "nbconvert_exporter": "python",
   "pygments_lexer": "ipython2",
   "version": "2.7.12"
  }
 },
 "nbformat": 4,
 "nbformat_minor": 0
}
