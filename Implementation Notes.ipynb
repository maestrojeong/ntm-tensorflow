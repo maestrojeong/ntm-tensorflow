{
 "cells": [
  {
   "cell_type": "code",
   "execution_count": 1,
   "metadata": {
    "collapsed": false
   },
   "outputs": [],
   "source": [
    "import tensorflow as tf\n",
    "import numpy as np\n",
    "import scipy.linalg as ln\n",
    "from model.ntm_ops import *\n",
    "from model.memory import *\n",
    "%load_ext autoreload\n",
    "%autoreload 2"
   ]
  },
  {
   "cell_type": "code",
   "execution_count": 2,
   "metadata": {
    "collapsed": false
   },
   "outputs": [],
   "source": [
    "sess = tf.InteractiveSession()"
   ]
  },
  {
   "cell_type": "markdown",
   "metadata": {},
   "source": [
    "# Ops Testing"
   ]
  },
  {
   "cell_type": "code",
   "execution_count": 6,
   "metadata": {
    "collapsed": false,
    "scrolled": false
   },
   "outputs": [
    {
     "name": "stdout",
     "output_type": "stream",
     "text": [
      "shape of result [1, 12]\n",
      "value of result [[ 0.84255314  2.23059011  4.0013032   0.38918835  1.01767564 -0.33680916\n",
      "   1.1560061  -0.30750984 -1.28430939 -0.20256931  0.32671487 -4.23408842]]\n"
     ]
    }
   ],
   "source": [
    "hidden_state = tf.constant(np.array([[1., 2., 3.]]), dtype=tf.float32)\n",
    "cell_state = tf.constant(np.array([[2, 3, 4.]]), dtype=tf.float32)\n",
    "read_vector = tf.constant(np.array([[0.5, 0.1]]), dtype=tf.float32)\n",
    "res = linear([hidden_state, cell_state, read_vector], bias=True, bias_start=0.0, output_size=4*3,scope=\"test\")\n",
    "print \"shape of result\", res.get_shape().as_list()\n",
    "sess.run(tf.initialize_all_variables())\n",
    "print \"value of result\", res.eval()"
   ]
  },
  {
   "cell_type": "markdown",
   "metadata": {},
   "source": [
    "## Introduction\n",
    "Neural Turing Machines combined the ability of Turing Machine and Neural Networks to infer simple algorithms. The controller (it's usually a LSTM) can be viewed as CPU and the external memory can be seen as RAM. \n",
    "\n",
    "A NTM has four components: Controller, read heads, write heads, and an external memory. \n",
    "\n",
    "High level overview:\n",
    "1. Addressing: Addressing mechanism is used to produce the weightings of each head. There are two types of adrressing, content based and location based. At every time step, the controller outputs five elements to produce weightings of each head: key vector, key strength, interpolation gate, shift weighting, and a scalar that used to sharpen the weightings. \n",
    "2. Read: each read head has a weighting vector tells how much degree of information we read from on each memory location\n",
    "3. Write: each write head has a weighting vector, an erase vector and an add vector. This is inspired by LSTM's forget gate and input gate. "
   ]
  },
  {
   "cell_type": "markdown",
   "metadata": {},
   "source": [
    "## Section 1 Hyper parameters"
   ]
  },
  {
   "cell_type": "markdown",
   "metadata": {},
   "source": [
    "### 1.1 Memory matrix\n",
    "Define two hyper parameters for the memory matrix: $N \\times M$, where $N$ is the number of memory locations, $M$ is the vector size at each memory location"
   ]
  },
  {
   "cell_type": "markdown",
   "metadata": {},
   "source": [
    "### 1.2 Controller dimension\n",
    "Define the LSTM hidden state dimension h and stacked hidden layer number a. This is the same as tradition LSTM with the hidden state and cell state.\n",
    "\n",
    "Define the output and input dimension, in NTM, it usually is how many bits per sequence. e.g. If one of the input sequence is [0, 1, 0, 1, 0, 1], then it should be 6."
   ]
  },
  {
   "cell_type": "markdown",
   "metadata": {},
   "source": [
    "### 1.3 The range of allowed location shift\n",
    "Define the range of the allowed location shift in location based addressing (Convolutional shift), s. e.g. if s = 3, then allowed location shift will be [-1, 0, 1]"
   ]
  },
  {
   "cell_type": "markdown",
   "metadata": {},
   "source": [
    "## Section 2 Memory Testing\n",
    "At every time step the controller outputs weighting of each head and hidden states(including cell states in original LSTM).. The weighting is determined by addressing mechanism:\n",
    "1. Content Addressing\n",
    "2. Interpolation\n",
    "3. Convolutional Shift\n",
    "4. Sharpening"
   ]
  },
  {
   "cell_type": "code",
   "execution_count": 3,
   "metadata": {
    "collapsed": false
   },
   "outputs": [],
   "source": [
    "# define memory and give attributes values\n",
    "B, N, M = 1, 3, 2\n",
    "memory = Memory(batch_size=B, mem_dim=M, mem_size=N)\n",
    "memory.memory = tf.constant(np.array([[\n",
    "            [6, 8],\n",
    "            [1, 2],\n",
    "            [3, 3],\n",
    "            \n",
    "        ]]), dtype=tf.float32)\n",
    "memory.read_weighting = tf.constant(np.array([\n",
    "            [1, 0, 0]\n",
    "        ]), dtype=tf.float32)\n",
    "memory.write_weighting = tf.constant(np.array([\n",
    "            [0, 1, 0]\n",
    "        ]), dtype=tf.float32)\n",
    "memory.read_vector = tf.constant(np.array([\n",
    "            [1.0, 1.0]\n",
    "        ]), dtype=tf.float32)"
   ]
  },
  {
   "cell_type": "code",
   "execution_count": 4,
   "metadata": {
    "collapsed": true
   },
   "outputs": [],
   "source": [
    "# define emitted vectors, these should be generated by the controller.\n",
    "key_vector = tf.constant(np.array([[3, 4]]), dtype=tf.float32)\n",
    "key_strength = tf.constant(np.array([[1]]), dtype=tf.float32)\n",
    "interplotation = tf.constant(np.array([[0.9]]), dtype=tf.float32)\n",
    "shifting = tf.constant([[0, 0, 1]], dtype=tf.float32)\n",
    "sharpening = tf.constant([[2]], dtype=tf.float32)\n",
    "add_vector = tf.constant([\n",
    "        [0.5, 0.5]\n",
    "    ])\n",
    "erase_vector = tf.constant([\n",
    "        [0.1, 0.5]\n",
    "    ])"
   ]
  },
  {
   "cell_type": "code",
   "execution_count": 5,
   "metadata": {
    "collapsed": false
   },
   "outputs": [
    {
     "name": "stdout",
     "output_type": "stream",
     "text": [
      "Previous memory\n",
      "[[[ 6.  8.]\n",
      "  [ 1.  2.]\n",
      "  [ 3.  3.]]]\n",
      "Current memory\n",
      "[[[ 6.          8.        ]\n",
      "  [ 1.39999998  1.5       ]\n",
      "  [ 3.          3.        ]]]\n"
     ]
    }
   ],
   "source": [
    "# memory write test\n",
    "print \"Previous memory\\n\", memory.memory.eval()\n",
    "matrix = memory.write(memory.write_weighting, memory.memory, erase_vector, add_vector)\n",
    "memory.memory = matrix\n",
    "print \"Current memory\\n\", memory.memory.eval()"
   ]
  },
  {
   "cell_type": "code",
   "execution_count": 6,
   "metadata": {
    "collapsed": false
   },
   "outputs": [
    {
     "name": "stdout",
     "output_type": "stream",
     "text": [
      "current write weighting [[ 0.  1.  0.]]\n",
      "next write weighting [[ 0.32519153  0.32578066  0.34902781]]\n"
     ]
    }
   ],
   "source": [
    "# update write weighting test\n",
    "print \"current write weighting\", memory.write_weighting.eval()\n",
    "memory.write_weighting = memory.update_weighting(key_vector, key_strength, interplotation, shifting, sharpening,\n",
    "                                                 memory.write_weighting, memory.memory)\n",
    "print \"next write weighting\", memory.write_weighting.eval()"
   ]
  },
  {
   "cell_type": "code",
   "execution_count": 7,
   "metadata": {
    "collapsed": false
   },
   "outputs": [
    {
     "name": "stdout",
     "output_type": "stream",
     "text": [
      "current read vector [[ 1.  1.]]\n",
      "next read vector [[ 6.  8.]]\n"
     ]
    }
   ],
   "source": [
    "# memory read test\n",
    "print \"current read vector\", memory.read_vector.eval()\n",
    "memory.read_vector = memory.read(memory.read_weighting, memory.memory)\n",
    "print \"next read vector\", memory.read_vector.eval()"
   ]
  },
  {
   "cell_type": "code",
   "execution_count": 8,
   "metadata": {
    "collapsed": false
   },
   "outputs": [
    {
     "name": "stdout",
     "output_type": "stream",
     "text": [
      "current read weighting [[ 1.  0.  0.]]\n",
      "next read weighting [[ 0.32514414  0.34946215  0.32539377]]\n"
     ]
    }
   ],
   "source": [
    "# update read weighting test\n",
    "print \"current read weighting\", memory.read_weighting.eval()\n",
    "memory.read_weighting = memory.update_weighting(key_vector, key_strength, interplotation, shifting, sharpening,\n",
    "                                                 memory.read_weighting, memory.memory)\n",
    "print \"next read weighting\", memory.read_weighting.eval()"
   ]
  },
  {
   "cell_type": "markdown",
   "metadata": {
    "collapsed": true
   },
   "source": [
    "## Section 2 NTM Cell"
   ]
  },
  {
   "cell_type": "code",
   "execution_count": 3,
   "metadata": {
    "collapsed": true
   },
   "outputs": [],
   "source": [
    "from model.ntm_cell import *"
   ]
  },
  {
   "cell_type": "code",
   "execution_count": 4,
   "metadata": {
    "collapsed": true
   },
   "outputs": [],
   "source": [
    "NTMStateTuple = collections.namedtuple(\"NTMStateTuple\", (\"h\", \"c\", \"m\"))"
   ]
  },
  {
   "cell_type": "code",
   "execution_count": 5,
   "metadata": {
    "collapsed": true
   },
   "outputs": [],
   "source": [
    "cell = NTMCell(3, 2, 5)"
   ]
  },
  {
   "cell_type": "code",
   "execution_count": 6,
   "metadata": {
    "collapsed": false
   },
   "outputs": [],
   "source": [
    "memory = Memory(mem_dim=5, mem_size=2)"
   ]
  },
  {
   "cell_type": "code",
   "execution_count": 16,
   "metadata": {
    "collapsed": true
   },
   "outputs": [],
   "source": [
    "state = NTMStateTuple(tf.constant(np.array([[1, 2, 3]]), name=\"cell\", dtype=tf.float32), \n",
    "                      tf.constant(np.array([[2, 5, 6]]), name=\"hidden\", dtype=tf.float32), memory)"
   ]
  },
  {
   "cell_type": "code",
   "execution_count": 8,
   "metadata": {
    "collapsed": true
   },
   "outputs": [],
   "source": [
    "inputs = tf.placeholder(name=\"inputs\", dtype=tf.float32, shape=(1, 2))"
   ]
  },
  {
   "cell_type": "code",
   "execution_count": 17,
   "metadata": {
    "collapsed": false
   },
   "outputs": [],
   "source": [
    "tf.get_variable_scope().reuse_variables()\n",
    "out, state = cell(inputs, state)"
   ]
  },
  {
   "cell_type": "code",
   "execution_count": 18,
   "metadata": {
    "collapsed": true
   },
   "outputs": [],
   "source": [
    "sess.run(tf.initialize_all_variables())"
   ]
  },
  {
   "cell_type": "code",
   "execution_count": 19,
   "metadata": {
    "collapsed": false
   },
   "outputs": [
    {
     "data": {
      "text/plain": [
       "array([[ 0.74140698,  0.27215773,  0.74529713]], dtype=float32)"
      ]
     },
     "execution_count": 19,
     "metadata": {},
     "output_type": "execute_result"
    }
   ],
   "source": [
    "out.eval(feed_dict={inputs:np.array([[1.0, 2.0]])})"
   ]
  },
  {
   "cell_type": "code",
   "execution_count": 20,
   "metadata": {
    "collapsed": false
   },
   "outputs": [],
   "source": [
    "m = state[2]"
   ]
  },
  {
   "cell_type": "code",
   "execution_count": 21,
   "metadata": {
    "collapsed": false
   },
   "outputs": [
    {
     "data": {
      "text/plain": [
       "array([[ 0.5,  0.5]], dtype=float32)"
      ]
     },
     "execution_count": 21,
     "metadata": {},
     "output_type": "execute_result"
    }
   ],
   "source": [
    "m.read_weighting.eval(feed_dict={inputs:np.array([[1.0, 2.0]])})"
   ]
  },
  {
   "cell_type": "code",
   "execution_count": 22,
   "metadata": {
    "collapsed": false
   },
   "outputs": [
    {
     "data": {
      "text/plain": [
       "array([[ 0.5,  0.5]], dtype=float32)"
      ]
     },
     "execution_count": 22,
     "metadata": {},
     "output_type": "execute_result"
    }
   ],
   "source": [
    "m.write_weighting.eval(feed_dict={inputs:np.array([[1.0, 2.0]])})"
   ]
  },
  {
   "cell_type": "code",
   "execution_count": 23,
   "metadata": {
    "collapsed": false
   },
   "outputs": [
    {
     "data": {
      "text/plain": [
       "array([[[ 0.22362523,  0.22423317, -0.02385022,  0.36904815, -0.00376798],\n",
       "        [ 0.22362523,  0.22423317, -0.02385022,  0.36904815, -0.00376798]]], dtype=float32)"
      ]
     },
     "execution_count": 23,
     "metadata": {},
     "output_type": "execute_result"
    }
   ],
   "source": [
    "m.memory.eval(feed_dict={inputs:np.array([[1.0, 2.0]])})"
   ]
  },
  {
   "cell_type": "code",
   "execution_count": 24,
   "metadata": {
    "collapsed": false
   },
   "outputs": [
    {
     "data": {
      "text/plain": [
       "array([[ 0.22362523,  0.22423317, -0.02385022,  0.36904815, -0.00376798]], dtype=float32)"
      ]
     },
     "execution_count": 24,
     "metadata": {},
     "output_type": "execute_result"
    }
   ],
   "source": [
    "m.read_vector.eval(feed_dict={inputs:np.array([[1.0, 2.0]])})"
   ]
  },
  {
   "cell_type": "code",
   "execution_count": 27,
   "metadata": {
    "collapsed": false
   },
   "outputs": [
    {
     "name": "stdout",
     "output_type": "stream",
     "text": [
      "ntm_cell/lstm/linear/Matrix:0\n",
      "ntm_cell/lstm/linear/bias:0\n",
      "ntm_cell/addressing/key_vector/Matrix:0\n",
      "ntm_cell/addressing/key_strength/Matrix:0\n",
      "ntm_cell/addressing/interpolation/Matrix:0\n",
      "ntm_cell/addressing/shifting/Matrix:0\n",
      "ntm_cell/addressing/sharpening/Matrix:0\n",
      "ntm_cell/write/erase/Matrix:0\n",
      "ntm_cell/write/add/Matrix:0\n"
     ]
    }
   ],
   "source": [
    "for v in tf.all_variables():\n",
    "    print v.name"
   ]
  },
  {
   "cell_type": "code",
   "execution_count": 32,
   "metadata": {
    "collapsed": false
   },
   "outputs": [],
   "source": [
    "a = [n.name for n in tf.get_default_graph().as_graph_def().node]"
   ]
  },
  {
   "cell_type": "code",
   "execution_count": 33,
   "metadata": {
    "collapsed": false,
    "scrolled": false
   },
   "outputs": [
    {
     "data": {
      "text/plain": [
       "[u'external_memory/memory/dims',\n",
       " u'external_memory/memory/value',\n",
       " u'external_memory/memory',\n",
       " u'external_memory/read_weighting/dims',\n",
       " u'external_memory/read_weighting/value',\n",
       " u'external_memory/read_weighting',\n",
       " u'external_memory/write_weighting/dims',\n",
       " u'external_memory/write_weighting/value',\n",
       " u'external_memory/write_weighting',\n",
       " u'external_memory/read_vector/dims',\n",
       " u'external_memory/read_vector/value',\n",
       " u'external_memory/read_vector',\n",
       " u'cell',\n",
       " u'hidden',\n",
       " u'inputs',\n",
       " u'ntm_cell/lstm/linear/Matrix',\n",
       " u'ntm_cell/lstm/linear/Matrix/Initializer/random_uniform/shape',\n",
       " u'ntm_cell/lstm/linear/Matrix/Initializer/random_uniform/min',\n",
       " u'ntm_cell/lstm/linear/Matrix/Initializer/random_uniform/max',\n",
       " u'ntm_cell/lstm/linear/Matrix/Initializer/random_uniform/RandomUniform',\n",
       " u'ntm_cell/lstm/linear/Matrix/Initializer/random_uniform/sub',\n",
       " u'ntm_cell/lstm/linear/Matrix/Initializer/random_uniform/mul',\n",
       " u'ntm_cell/lstm/linear/Matrix/Initializer/random_uniform',\n",
       " u'ntm_cell/lstm/linear/Matrix/Assign',\n",
       " u'ntm_cell/lstm/linear/Matrix/read',\n",
       " u'ntm_cell/lstm/linear/concat/concat_dim',\n",
       " u'ntm_cell/lstm/linear/concat',\n",
       " u'ntm_cell/lstm/linear/MatMul',\n",
       " u'ntm_cell/lstm/linear/bias',\n",
       " u'ntm_cell/lstm/linear/bias/Initializer/Const',\n",
       " u'ntm_cell/lstm/linear/bias/Assign',\n",
       " u'ntm_cell/lstm/linear/bias/read',\n",
       " u'ntm_cell/lstm/linear/Add',\n",
       " u'ntm_cell/lstm/split/split_dim',\n",
       " u'ntm_cell/lstm/split',\n",
       " u'ntm_cell/lstm/add/y',\n",
       " u'ntm_cell/lstm/add',\n",
       " u'ntm_cell/lstm/forget',\n",
       " u'ntm_cell/lstm/input',\n",
       " u'ntm_cell/lstm/new_input',\n",
       " u'ntm_cell/lstm/output',\n",
       " u'ntm_cell/lstm/mul',\n",
       " u'ntm_cell/lstm/mul_1',\n",
       " u'ntm_cell/lstm/add_1',\n",
       " u'ntm_cell/lstm/Tanh',\n",
       " u'ntm_cell/lstm/mul_2',\n",
       " u'ntm_cell/addressing/key_vector/Matrix',\n",
       " u'ntm_cell/addressing/key_vector/Matrix/Initializer/random_uniform/shape',\n",
       " u'ntm_cell/addressing/key_vector/Matrix/Initializer/random_uniform/min',\n",
       " u'ntm_cell/addressing/key_vector/Matrix/Initializer/random_uniform/max',\n",
       " u'ntm_cell/addressing/key_vector/Matrix/Initializer/random_uniform/RandomUniform',\n",
       " u'ntm_cell/addressing/key_vector/Matrix/Initializer/random_uniform/sub',\n",
       " u'ntm_cell/addressing/key_vector/Matrix/Initializer/random_uniform/mul',\n",
       " u'ntm_cell/addressing/key_vector/Matrix/Initializer/random_uniform',\n",
       " u'ntm_cell/addressing/key_vector/Matrix/Assign',\n",
       " u'ntm_cell/addressing/key_vector/Matrix/read',\n",
       " u'ntm_cell/addressing/key_vector/MatMul',\n",
       " u'ntm_cell/addressing/Relu',\n",
       " u'ntm_cell/addressing/key_strength/Matrix',\n",
       " u'ntm_cell/addressing/key_strength/Matrix/Initializer/random_uniform/shape',\n",
       " u'ntm_cell/addressing/key_strength/Matrix/Initializer/random_uniform/min',\n",
       " u'ntm_cell/addressing/key_strength/Matrix/Initializer/random_uniform/max',\n",
       " u'ntm_cell/addressing/key_strength/Matrix/Initializer/random_uniform/RandomUniform',\n",
       " u'ntm_cell/addressing/key_strength/Matrix/Initializer/random_uniform/sub',\n",
       " u'ntm_cell/addressing/key_strength/Matrix/Initializer/random_uniform/mul',\n",
       " u'ntm_cell/addressing/key_strength/Matrix/Initializer/random_uniform',\n",
       " u'ntm_cell/addressing/key_strength/Matrix/Assign',\n",
       " u'ntm_cell/addressing/key_strength/Matrix/read',\n",
       " u'ntm_cell/addressing/key_strength/MatMul',\n",
       " u'ntm_cell/addressing/Relu_1',\n",
       " u'ntm_cell/addressing/interpolation/Matrix',\n",
       " u'ntm_cell/addressing/interpolation/Matrix/Initializer/random_uniform/shape',\n",
       " u'ntm_cell/addressing/interpolation/Matrix/Initializer/random_uniform/min',\n",
       " u'ntm_cell/addressing/interpolation/Matrix/Initializer/random_uniform/max',\n",
       " u'ntm_cell/addressing/interpolation/Matrix/Initializer/random_uniform/RandomUniform',\n",
       " u'ntm_cell/addressing/interpolation/Matrix/Initializer/random_uniform/sub',\n",
       " u'ntm_cell/addressing/interpolation/Matrix/Initializer/random_uniform/mul',\n",
       " u'ntm_cell/addressing/interpolation/Matrix/Initializer/random_uniform',\n",
       " u'ntm_cell/addressing/interpolation/Matrix/Assign',\n",
       " u'ntm_cell/addressing/interpolation/Matrix/read',\n",
       " u'ntm_cell/addressing/interpolation/MatMul',\n",
       " u'ntm_cell/addressing/Sigmoid',\n",
       " u'ntm_cell/addressing/shifting/Matrix',\n",
       " u'ntm_cell/addressing/shifting/Matrix/Initializer/random_uniform/shape',\n",
       " u'ntm_cell/addressing/shifting/Matrix/Initializer/random_uniform/min',\n",
       " u'ntm_cell/addressing/shifting/Matrix/Initializer/random_uniform/max',\n",
       " u'ntm_cell/addressing/shifting/Matrix/Initializer/random_uniform/RandomUniform',\n",
       " u'ntm_cell/addressing/shifting/Matrix/Initializer/random_uniform/sub',\n",
       " u'ntm_cell/addressing/shifting/Matrix/Initializer/random_uniform/mul',\n",
       " u'ntm_cell/addressing/shifting/Matrix/Initializer/random_uniform',\n",
       " u'ntm_cell/addressing/shifting/Matrix/Assign',\n",
       " u'ntm_cell/addressing/shifting/Matrix/read',\n",
       " u'ntm_cell/addressing/shifting/MatMul',\n",
       " u'ntm_cell/addressing/Softmax',\n",
       " u'ntm_cell/addressing/sharpening/Matrix',\n",
       " u'ntm_cell/addressing/sharpening/Matrix/Initializer/random_uniform/shape',\n",
       " u'ntm_cell/addressing/sharpening/Matrix/Initializer/random_uniform/min',\n",
       " u'ntm_cell/addressing/sharpening/Matrix/Initializer/random_uniform/max',\n",
       " u'ntm_cell/addressing/sharpening/Matrix/Initializer/random_uniform/RandomUniform',\n",
       " u'ntm_cell/addressing/sharpening/Matrix/Initializer/random_uniform/sub',\n",
       " u'ntm_cell/addressing/sharpening/Matrix/Initializer/random_uniform/mul',\n",
       " u'ntm_cell/addressing/sharpening/Matrix/Initializer/random_uniform',\n",
       " u'ntm_cell/addressing/sharpening/Matrix/Assign',\n",
       " u'ntm_cell/addressing/sharpening/Matrix/read',\n",
       " u'ntm_cell/addressing/sharpening/MatMul',\n",
       " u'ntm_cell/addressing/Relu_2',\n",
       " u'ntm_cell/addressing/add/y',\n",
       " u'ntm_cell/addressing/add',\n",
       " u'ntm_cell/write/erase/Matrix',\n",
       " u'ntm_cell/write/erase/Matrix/Initializer/random_uniform/shape',\n",
       " u'ntm_cell/write/erase/Matrix/Initializer/random_uniform/min',\n",
       " u'ntm_cell/write/erase/Matrix/Initializer/random_uniform/max',\n",
       " u'ntm_cell/write/erase/Matrix/Initializer/random_uniform/RandomUniform',\n",
       " u'ntm_cell/write/erase/Matrix/Initializer/random_uniform/sub',\n",
       " u'ntm_cell/write/erase/Matrix/Initializer/random_uniform/mul',\n",
       " u'ntm_cell/write/erase/Matrix/Initializer/random_uniform',\n",
       " u'ntm_cell/write/erase/Matrix/Assign',\n",
       " u'ntm_cell/write/erase/Matrix/read',\n",
       " u'ntm_cell/write/erase/MatMul',\n",
       " u'ntm_cell/write/Sigmoid',\n",
       " u'ntm_cell/write/add/Matrix',\n",
       " u'ntm_cell/write/add/Matrix/Initializer/random_uniform/shape',\n",
       " u'ntm_cell/write/add/Matrix/Initializer/random_uniform/min',\n",
       " u'ntm_cell/write/add/Matrix/Initializer/random_uniform/max',\n",
       " u'ntm_cell/write/add/Matrix/Initializer/random_uniform/RandomUniform',\n",
       " u'ntm_cell/write/add/Matrix/Initializer/random_uniform/sub',\n",
       " u'ntm_cell/write/add/Matrix/Initializer/random_uniform/mul',\n",
       " u'ntm_cell/write/add/Matrix/Initializer/random_uniform',\n",
       " u'ntm_cell/write/add/Matrix/Assign',\n",
       " u'ntm_cell/write/add/Matrix/read',\n",
       " u'ntm_cell/write/add/MatMul',\n",
       " u'ntm_cell/write/Tanh',\n",
       " u'ntm_cell/write/split/split_dim',\n",
       " u'ntm_cell/write/split',\n",
       " u'ntm_cell/write/split_1/split_dim',\n",
       " u'ntm_cell/write/split_1',\n",
       " u'ntm_cell/write/Reshape/shape',\n",
       " u'ntm_cell/write/Reshape',\n",
       " u'ntm_cell/write/Reshape_1/shape',\n",
       " u'ntm_cell/write/Reshape_1',\n",
       " u'ntm_cell/write/MatMul',\n",
       " u'ntm_cell/write/packed',\n",
       " u'ntm_cell/write/ones_like/Shape',\n",
       " u'ntm_cell/write/ones_like/Const',\n",
       " u'ntm_cell/write/ones_like',\n",
       " u'ntm_cell/write/sub',\n",
       " u'ntm_cell/write/Mul',\n",
       " u'ntm_cell/write/split_2/split_dim',\n",
       " u'ntm_cell/write/split_2',\n",
       " u'ntm_cell/write/split_3/split_dim',\n",
       " u'ntm_cell/write/split_3',\n",
       " u'ntm_cell/write/Reshape_2/shape',\n",
       " u'ntm_cell/write/Reshape_2',\n",
       " u'ntm_cell/write/Reshape_3/shape',\n",
       " u'ntm_cell/write/Reshape_3',\n",
       " u'ntm_cell/write/MatMul_1',\n",
       " u'ntm_cell/write/packed_1',\n",
       " u'ntm_cell/write/add_1',\n",
       " u'ntm_cell/write/content_based_addressing/cos_similarity/split/split_dim',\n",
       " u'ntm_cell/write/content_based_addressing/cos_similarity/split',\n",
       " u'ntm_cell/write/content_based_addressing/cos_similarity/split_1/split_dim',\n",
       " u'ntm_cell/write/content_based_addressing/cos_similarity/split_1',\n",
       " u'ntm_cell/write/content_based_addressing/cos_similarity/Squeeze',\n",
       " u'ntm_cell/write/content_based_addressing/cos_similarity/mul',\n",
       " u'ntm_cell/write/content_based_addressing/cos_similarity/Sum/reduction_indices',\n",
       " u'ntm_cell/write/content_based_addressing/cos_similarity/Sum',\n",
       " u'ntm_cell/write/content_based_addressing/cos_similarity/packed',\n",
       " u'ntm_cell/write/content_based_addressing/cos_similarity/Square',\n",
       " u'ntm_cell/write/content_based_addressing/cos_similarity/Sum_1/reduction_indices',\n",
       " u'ntm_cell/write/content_based_addressing/cos_similarity/Sum_1',\n",
       " u'ntm_cell/write/content_based_addressing/cos_similarity/Sqrt',\n",
       " u'ntm_cell/write/content_based_addressing/cos_similarity/Square_1',\n",
       " u'ntm_cell/write/content_based_addressing/cos_similarity/Sum_2/reduction_indices',\n",
       " u'ntm_cell/write/content_based_addressing/cos_similarity/Sum_2',\n",
       " u'ntm_cell/write/content_based_addressing/cos_similarity/Sqrt_1',\n",
       " u'ntm_cell/write/content_based_addressing/cos_similarity/Reshape/shape',\n",
       " u'ntm_cell/write/content_based_addressing/cos_similarity/Reshape',\n",
       " u'ntm_cell/write/content_based_addressing/cos_similarity/mul_1',\n",
       " u'ntm_cell/write/content_based_addressing/cos_similarity/add/y',\n",
       " u'ntm_cell/write/content_based_addressing/cos_similarity/add',\n",
       " u'ntm_cell/write/content_based_addressing/cos_similarity/div',\n",
       " u'ntm_cell/write/content_based_addressing/mul',\n",
       " u'ntm_cell/write/content_based_addressing/content_weighting',\n",
       " u'ntm_cell/write/location_based_addressing/mul',\n",
       " u'ntm_cell/write/location_based_addressing/ones_like/Shape',\n",
       " u'ntm_cell/write/location_based_addressing/ones_like/Const',\n",
       " u'ntm_cell/write/location_based_addressing/ones_like',\n",
       " u'ntm_cell/write/location_based_addressing/sub',\n",
       " u'ntm_cell/write/location_based_addressing/mul_1',\n",
       " u'ntm_cell/write/location_based_addressing/add',\n",
       " u'ntm_cell/write/location_based_addressing/circular_conv/gather_cols/indices',\n",
       " u'ntm_cell/write/location_based_addressing/circular_conv/gather_cols/Shape',\n",
       " u'ntm_cell/write/location_based_addressing/circular_conv/gather_cols/Reshape/shape',\n",
       " u'ntm_cell/write/location_based_addressing/circular_conv/gather_cols/Reshape',\n",
       " u'ntm_cell/write/location_based_addressing/circular_conv/gather_cols/Slice/begin',\n",
       " u'ntm_cell/write/location_based_addressing/circular_conv/gather_cols/Slice/size',\n",
       " u'ntm_cell/write/location_based_addressing/circular_conv/gather_cols/Slice',\n",
       " u'ntm_cell/write/location_based_addressing/circular_conv/gather_cols/Squeeze',\n",
       " u'ntm_cell/write/location_based_addressing/circular_conv/gather_cols/range/start',\n",
       " u'ntm_cell/write/location_based_addressing/circular_conv/gather_cols/range/delta',\n",
       " u'ntm_cell/write/location_based_addressing/circular_conv/gather_cols/range',\n",
       " u'ntm_cell/write/location_based_addressing/circular_conv/gather_cols/Slice_1/begin',\n",
       " u'ntm_cell/write/location_based_addressing/circular_conv/gather_cols/Slice_1/size',\n",
       " u'ntm_cell/write/location_based_addressing/circular_conv/gather_cols/Slice_1',\n",
       " u'ntm_cell/write/location_based_addressing/circular_conv/gather_cols/Squeeze_1',\n",
       " u'ntm_cell/write/location_based_addressing/circular_conv/gather_cols/mul',\n",
       " u'ntm_cell/write/location_based_addressing/circular_conv/gather_cols/Reshape_1/shape',\n",
       " u'ntm_cell/write/location_based_addressing/circular_conv/gather_cols/Reshape_1',\n",
       " u'ntm_cell/write/location_based_addressing/circular_conv/gather_cols/add',\n",
       " u'ntm_cell/write/location_based_addressing/circular_conv/gather_cols/Reshape_2/shape',\n",
       " u'ntm_cell/write/location_based_addressing/circular_conv/gather_cols/Reshape_2',\n",
       " u'ntm_cell/write/location_based_addressing/circular_conv/gather_cols/Gather',\n",
       " u'ntm_cell/write/location_based_addressing/circular_conv/gather_cols/Slice_2/begin',\n",
       " u'ntm_cell/write/location_based_addressing/circular_conv/gather_cols/Slice_2/size',\n",
       " u'ntm_cell/write/location_based_addressing/circular_conv/gather_cols/Slice_2',\n",
       " u'ntm_cell/write/location_based_addressing/circular_conv/gather_cols/Squeeze_2',\n",
       " u'ntm_cell/write/location_based_addressing/circular_conv/gather_cols/Reshape_3/shape/1',\n",
       " u'ntm_cell/write/location_based_addressing/circular_conv/gather_cols/Reshape_3/shape',\n",
       " u'ntm_cell/write/location_based_addressing/circular_conv/gather_cols/Reshape_3',\n",
       " u'ntm_cell/write/location_based_addressing/circular_conv/mul',\n",
       " u'ntm_cell/write/location_based_addressing/circular_conv/Sum/reduction_indices',\n",
       " u'ntm_cell/write/location_based_addressing/circular_conv/Sum',\n",
       " u'ntm_cell/write/location_based_addressing/circular_conv/gather_cols_1/indices',\n",
       " u'ntm_cell/write/location_based_addressing/circular_conv/gather_cols_1/Shape',\n",
       " u'ntm_cell/write/location_based_addressing/circular_conv/gather_cols_1/Reshape/shape',\n",
       " u'ntm_cell/write/location_based_addressing/circular_conv/gather_cols_1/Reshape',\n",
       " u'ntm_cell/write/location_based_addressing/circular_conv/gather_cols_1/Slice/begin',\n",
       " u'ntm_cell/write/location_based_addressing/circular_conv/gather_cols_1/Slice/size',\n",
       " u'ntm_cell/write/location_based_addressing/circular_conv/gather_cols_1/Slice',\n",
       " u'ntm_cell/write/location_based_addressing/circular_conv/gather_cols_1/Squeeze',\n",
       " u'ntm_cell/write/location_based_addressing/circular_conv/gather_cols_1/range/start',\n",
       " u'ntm_cell/write/location_based_addressing/circular_conv/gather_cols_1/range/delta',\n",
       " u'ntm_cell/write/location_based_addressing/circular_conv/gather_cols_1/range',\n",
       " u'ntm_cell/write/location_based_addressing/circular_conv/gather_cols_1/Slice_1/begin',\n",
       " u'ntm_cell/write/location_based_addressing/circular_conv/gather_cols_1/Slice_1/size',\n",
       " u'ntm_cell/write/location_based_addressing/circular_conv/gather_cols_1/Slice_1',\n",
       " u'ntm_cell/write/location_based_addressing/circular_conv/gather_cols_1/Squeeze_1',\n",
       " u'ntm_cell/write/location_based_addressing/circular_conv/gather_cols_1/mul',\n",
       " u'ntm_cell/write/location_based_addressing/circular_conv/gather_cols_1/Reshape_1/shape',\n",
       " u'ntm_cell/write/location_based_addressing/circular_conv/gather_cols_1/Reshape_1',\n",
       " u'ntm_cell/write/location_based_addressing/circular_conv/gather_cols_1/add',\n",
       " u'ntm_cell/write/location_based_addressing/circular_conv/gather_cols_1/Reshape_2/shape',\n",
       " u'ntm_cell/write/location_based_addressing/circular_conv/gather_cols_1/Reshape_2',\n",
       " u'ntm_cell/write/location_based_addressing/circular_conv/gather_cols_1/Gather',\n",
       " u'ntm_cell/write/location_based_addressing/circular_conv/gather_cols_1/Slice_2/begin',\n",
       " u'ntm_cell/write/location_based_addressing/circular_conv/gather_cols_1/Slice_2/size',\n",
       " u'ntm_cell/write/location_based_addressing/circular_conv/gather_cols_1/Slice_2',\n",
       " u'ntm_cell/write/location_based_addressing/circular_conv/gather_cols_1/Squeeze_2',\n",
       " u'ntm_cell/write/location_based_addressing/circular_conv/gather_cols_1/Reshape_3/shape/1',\n",
       " u'ntm_cell/write/location_based_addressing/circular_conv/gather_cols_1/Reshape_3/shape',\n",
       " u'ntm_cell/write/location_based_addressing/circular_conv/gather_cols_1/Reshape_3',\n",
       " u'ntm_cell/write/location_based_addressing/circular_conv/mul_1',\n",
       " u'ntm_cell/write/location_based_addressing/circular_conv/Sum_1/reduction_indices',\n",
       " u'ntm_cell/write/location_based_addressing/circular_conv/Sum_1',\n",
       " u'ntm_cell/write/location_based_addressing/circular_conv/transpose/Rank/input',\n",
       " u'ntm_cell/write/location_based_addressing/circular_conv/transpose/Rank',\n",
       " u'ntm_cell/write/location_based_addressing/circular_conv/transpose/sub/y',\n",
       " u'ntm_cell/write/location_based_addressing/circular_conv/transpose/sub',\n",
       " u'ntm_cell/write/location_based_addressing/circular_conv/transpose/Range/start',\n",
       " u'ntm_cell/write/location_based_addressing/circular_conv/transpose/Range/delta',\n",
       " u'ntm_cell/write/location_based_addressing/circular_conv/transpose/Range',\n",
       " u'ntm_cell/write/location_based_addressing/circular_conv/transpose/sub_1',\n",
       " u'ntm_cell/write/location_based_addressing/circular_conv/transpose/x',\n",
       " u'ntm_cell/write/location_based_addressing/circular_conv/transpose',\n",
       " u'ntm_cell/write/location_based_addressing/Pow',\n",
       " u'ntm_cell/write/location_based_addressing/Softmax',\n",
       " u'ntm_cell/read/Reshape/shape',\n",
       " u'ntm_cell/read/Reshape',\n",
       " u'ntm_cell/read/Mul',\n",
       " u'ntm_cell/read/Sum/reduction_indices',\n",
       " u'ntm_cell/read/Sum',\n",
       " u'ntm_cell/read/content_based_addressing/cos_similarity/split/split_dim',\n",
       " u'ntm_cell/read/content_based_addressing/cos_similarity/split',\n",
       " u'ntm_cell/read/content_based_addressing/cos_similarity/split_1/split_dim',\n",
       " u'ntm_cell/read/content_based_addressing/cos_similarity/split_1',\n",
       " u'ntm_cell/read/content_based_addressing/cos_similarity/Squeeze',\n",
       " u'ntm_cell/read/content_based_addressing/cos_similarity/mul',\n",
       " u'ntm_cell/read/content_based_addressing/cos_similarity/Sum/reduction_indices',\n",
       " u'ntm_cell/read/content_based_addressing/cos_similarity/Sum',\n",
       " u'ntm_cell/read/content_based_addressing/cos_similarity/packed',\n",
       " u'ntm_cell/read/content_based_addressing/cos_similarity/Square',\n",
       " u'ntm_cell/read/content_based_addressing/cos_similarity/Sum_1/reduction_indices',\n",
       " u'ntm_cell/read/content_based_addressing/cos_similarity/Sum_1',\n",
       " u'ntm_cell/read/content_based_addressing/cos_similarity/Sqrt',\n",
       " u'ntm_cell/read/content_based_addressing/cos_similarity/Square_1',\n",
       " u'ntm_cell/read/content_based_addressing/cos_similarity/Sum_2/reduction_indices',\n",
       " u'ntm_cell/read/content_based_addressing/cos_similarity/Sum_2',\n",
       " u'ntm_cell/read/content_based_addressing/cos_similarity/Sqrt_1',\n",
       " u'ntm_cell/read/content_based_addressing/cos_similarity/Reshape/shape',\n",
       " u'ntm_cell/read/content_based_addressing/cos_similarity/Reshape',\n",
       " u'ntm_cell/read/content_based_addressing/cos_similarity/mul_1',\n",
       " u'ntm_cell/read/content_based_addressing/cos_similarity/add/y',\n",
       " u'ntm_cell/read/content_based_addressing/cos_similarity/add',\n",
       " u'ntm_cell/read/content_based_addressing/cos_similarity/div',\n",
       " u'ntm_cell/read/content_based_addressing/mul',\n",
       " u'ntm_cell/read/content_based_addressing/content_weighting',\n",
       " u'ntm_cell/read/location_based_addressing/mul',\n",
       " u'ntm_cell/read/location_based_addressing/ones_like/Shape',\n",
       " u'ntm_cell/read/location_based_addressing/ones_like/Const',\n",
       " u'ntm_cell/read/location_based_addressing/ones_like',\n",
       " u'ntm_cell/read/location_based_addressing/sub',\n",
       " u'ntm_cell/read/location_based_addressing/mul_1',\n",
       " u'ntm_cell/read/location_based_addressing/add',\n",
       " u'ntm_cell/read/location_based_addressing/circular_conv/gather_cols/indices',\n",
       " u'ntm_cell/read/location_based_addressing/circular_conv/gather_cols/Shape',\n",
       " u'ntm_cell/read/location_based_addressing/circular_conv/gather_cols/Reshape/shape',\n",
       " u'ntm_cell/read/location_based_addressing/circular_conv/gather_cols/Reshape',\n",
       " u'ntm_cell/read/location_based_addressing/circular_conv/gather_cols/Slice/begin',\n",
       " u'ntm_cell/read/location_based_addressing/circular_conv/gather_cols/Slice/size',\n",
       " u'ntm_cell/read/location_based_addressing/circular_conv/gather_cols/Slice',\n",
       " u'ntm_cell/read/location_based_addressing/circular_conv/gather_cols/Squeeze',\n",
       " u'ntm_cell/read/location_based_addressing/circular_conv/gather_cols/range/start',\n",
       " u'ntm_cell/read/location_based_addressing/circular_conv/gather_cols/range/delta',\n",
       " u'ntm_cell/read/location_based_addressing/circular_conv/gather_cols/range',\n",
       " u'ntm_cell/read/location_based_addressing/circular_conv/gather_cols/Slice_1/begin',\n",
       " u'ntm_cell/read/location_based_addressing/circular_conv/gather_cols/Slice_1/size',\n",
       " u'ntm_cell/read/location_based_addressing/circular_conv/gather_cols/Slice_1',\n",
       " u'ntm_cell/read/location_based_addressing/circular_conv/gather_cols/Squeeze_1',\n",
       " u'ntm_cell/read/location_based_addressing/circular_conv/gather_cols/mul',\n",
       " u'ntm_cell/read/location_based_addressing/circular_conv/gather_cols/Reshape_1/shape',\n",
       " u'ntm_cell/read/location_based_addressing/circular_conv/gather_cols/Reshape_1',\n",
       " u'ntm_cell/read/location_based_addressing/circular_conv/gather_cols/add',\n",
       " u'ntm_cell/read/location_based_addressing/circular_conv/gather_cols/Reshape_2/shape',\n",
       " u'ntm_cell/read/location_based_addressing/circular_conv/gather_cols/Reshape_2',\n",
       " u'ntm_cell/read/location_based_addressing/circular_conv/gather_cols/Gather',\n",
       " u'ntm_cell/read/location_based_addressing/circular_conv/gather_cols/Slice_2/begin',\n",
       " u'ntm_cell/read/location_based_addressing/circular_conv/gather_cols/Slice_2/size',\n",
       " u'ntm_cell/read/location_based_addressing/circular_conv/gather_cols/Slice_2',\n",
       " u'ntm_cell/read/location_based_addressing/circular_conv/gather_cols/Squeeze_2',\n",
       " u'ntm_cell/read/location_based_addressing/circular_conv/gather_cols/Reshape_3/shape/1',\n",
       " u'ntm_cell/read/location_based_addressing/circular_conv/gather_cols/Reshape_3/shape',\n",
       " u'ntm_cell/read/location_based_addressing/circular_conv/gather_cols/Reshape_3',\n",
       " u'ntm_cell/read/location_based_addressing/circular_conv/mul',\n",
       " u'ntm_cell/read/location_based_addressing/circular_conv/Sum/reduction_indices',\n",
       " u'ntm_cell/read/location_based_addressing/circular_conv/Sum',\n",
       " u'ntm_cell/read/location_based_addressing/circular_conv/gather_cols_1/indices',\n",
       " u'ntm_cell/read/location_based_addressing/circular_conv/gather_cols_1/Shape',\n",
       " u'ntm_cell/read/location_based_addressing/circular_conv/gather_cols_1/Reshape/shape',\n",
       " u'ntm_cell/read/location_based_addressing/circular_conv/gather_cols_1/Reshape',\n",
       " u'ntm_cell/read/location_based_addressing/circular_conv/gather_cols_1/Slice/begin',\n",
       " u'ntm_cell/read/location_based_addressing/circular_conv/gather_cols_1/Slice/size',\n",
       " u'ntm_cell/read/location_based_addressing/circular_conv/gather_cols_1/Slice',\n",
       " u'ntm_cell/read/location_based_addressing/circular_conv/gather_cols_1/Squeeze',\n",
       " u'ntm_cell/read/location_based_addressing/circular_conv/gather_cols_1/range/start',\n",
       " u'ntm_cell/read/location_based_addressing/circular_conv/gather_cols_1/range/delta',\n",
       " u'ntm_cell/read/location_based_addressing/circular_conv/gather_cols_1/range',\n",
       " u'ntm_cell/read/location_based_addressing/circular_conv/gather_cols_1/Slice_1/begin',\n",
       " u'ntm_cell/read/location_based_addressing/circular_conv/gather_cols_1/Slice_1/size',\n",
       " u'ntm_cell/read/location_based_addressing/circular_conv/gather_cols_1/Slice_1',\n",
       " u'ntm_cell/read/location_based_addressing/circular_conv/gather_cols_1/Squeeze_1',\n",
       " u'ntm_cell/read/location_based_addressing/circular_conv/gather_cols_1/mul',\n",
       " u'ntm_cell/read/location_based_addressing/circular_conv/gather_cols_1/Reshape_1/shape',\n",
       " u'ntm_cell/read/location_based_addressing/circular_conv/gather_cols_1/Reshape_1',\n",
       " u'ntm_cell/read/location_based_addressing/circular_conv/gather_cols_1/add',\n",
       " u'ntm_cell/read/location_based_addressing/circular_conv/gather_cols_1/Reshape_2/shape',\n",
       " u'ntm_cell/read/location_based_addressing/circular_conv/gather_cols_1/Reshape_2',\n",
       " u'ntm_cell/read/location_based_addressing/circular_conv/gather_cols_1/Gather',\n",
       " u'ntm_cell/read/location_based_addressing/circular_conv/gather_cols_1/Slice_2/begin',\n",
       " u'ntm_cell/read/location_based_addressing/circular_conv/gather_cols_1/Slice_2/size',\n",
       " u'ntm_cell/read/location_based_addressing/circular_conv/gather_cols_1/Slice_2',\n",
       " u'ntm_cell/read/location_based_addressing/circular_conv/gather_cols_1/Squeeze_2',\n",
       " u'ntm_cell/read/location_based_addressing/circular_conv/gather_cols_1/Reshape_3/shape/1',\n",
       " u'ntm_cell/read/location_based_addressing/circular_conv/gather_cols_1/Reshape_3/shape',\n",
       " u'ntm_cell/read/location_based_addressing/circular_conv/gather_cols_1/Reshape_3',\n",
       " u'ntm_cell/read/location_based_addressing/circular_conv/mul_1',\n",
       " u'ntm_cell/read/location_based_addressing/circular_conv/Sum_1/reduction_indices',\n",
       " u'ntm_cell/read/location_based_addressing/circular_conv/Sum_1',\n",
       " u'ntm_cell/read/location_based_addressing/circular_conv/transpose/Rank/input',\n",
       " u'ntm_cell/read/location_based_addressing/circular_conv/transpose/Rank',\n",
       " u'ntm_cell/read/location_based_addressing/circular_conv/transpose/sub/y',\n",
       " u'ntm_cell/read/location_based_addressing/circular_conv/transpose/sub',\n",
       " u'ntm_cell/read/location_based_addressing/circular_conv/transpose/Range/start',\n",
       " u'ntm_cell/read/location_based_addressing/circular_conv/transpose/Range/delta',\n",
       " u'ntm_cell/read/location_based_addressing/circular_conv/transpose/Range',\n",
       " u'ntm_cell/read/location_based_addressing/circular_conv/transpose/sub_1',\n",
       " u'ntm_cell/read/location_based_addressing/circular_conv/transpose/x',\n",
       " u'ntm_cell/read/location_based_addressing/circular_conv/transpose',\n",
       " u'ntm_cell/read/location_based_addressing/Pow',\n",
       " u'ntm_cell/read/location_based_addressing/Softmax',\n",
       " u'init',\n",
       " u'cell_1',\n",
       " u'hidden_1',\n",
       " u'ntm_cell_1/lstm/linear/concat/concat_dim',\n",
       " u'ntm_cell_1/lstm/linear/concat',\n",
       " u'ntm_cell_1/lstm/linear/MatMul',\n",
       " u'ntm_cell_1/lstm/linear/Add',\n",
       " u'ntm_cell_1/lstm/split/split_dim',\n",
       " u'ntm_cell_1/lstm/split',\n",
       " u'ntm_cell_1/lstm/add/y',\n",
       " u'ntm_cell_1/lstm/add',\n",
       " u'ntm_cell_1/lstm/forget',\n",
       " u'ntm_cell_1/lstm/input',\n",
       " u'ntm_cell_1/lstm/new_input',\n",
       " u'ntm_cell_1/lstm/output',\n",
       " u'ntm_cell_1/lstm/mul',\n",
       " u'ntm_cell_1/lstm/mul_1',\n",
       " u'ntm_cell_1/lstm/add_1',\n",
       " u'ntm_cell_1/lstm/Tanh',\n",
       " u'ntm_cell_1/lstm/mul_2',\n",
       " u'ntm_cell_1/addressing/key_vector/MatMul',\n",
       " u'ntm_cell_1/addressing/Relu',\n",
       " u'ntm_cell_1/addressing/key_strength/MatMul',\n",
       " u'ntm_cell_1/addressing/Relu_1',\n",
       " u'ntm_cell_1/addressing/interpolation/MatMul',\n",
       " u'ntm_cell_1/addressing/Sigmoid',\n",
       " u'ntm_cell_1/addressing/shifting/MatMul',\n",
       " u'ntm_cell_1/addressing/Softmax',\n",
       " u'ntm_cell_1/addressing/sharpening/MatMul',\n",
       " u'ntm_cell_1/addressing/Relu_2',\n",
       " u'ntm_cell_1/addressing/add/y',\n",
       " u'ntm_cell_1/addressing/add',\n",
       " u'ntm_cell_1/write/erase/MatMul',\n",
       " u'ntm_cell_1/write/Sigmoid',\n",
       " u'ntm_cell_1/write/add/MatMul',\n",
       " u'ntm_cell_1/write/Tanh',\n",
       " u'ntm_cell_1/write/split/split_dim',\n",
       " u'ntm_cell_1/write/split',\n",
       " u'ntm_cell_1/write/split_1/split_dim',\n",
       " u'ntm_cell_1/write/split_1',\n",
       " u'ntm_cell_1/write/Reshape/shape',\n",
       " u'ntm_cell_1/write/Reshape',\n",
       " u'ntm_cell_1/write/Reshape_1/shape',\n",
       " u'ntm_cell_1/write/Reshape_1',\n",
       " u'ntm_cell_1/write/MatMul',\n",
       " u'ntm_cell_1/write/packed',\n",
       " u'ntm_cell_1/write/ones_like/Shape',\n",
       " u'ntm_cell_1/write/ones_like/Const',\n",
       " u'ntm_cell_1/write/ones_like',\n",
       " u'ntm_cell_1/write/sub',\n",
       " u'ntm_cell_1/write/Mul',\n",
       " u'ntm_cell_1/write/split_2/split_dim',\n",
       " u'ntm_cell_1/write/split_2',\n",
       " u'ntm_cell_1/write/split_3/split_dim',\n",
       " u'ntm_cell_1/write/split_3',\n",
       " u'ntm_cell_1/write/Reshape_2/shape',\n",
       " u'ntm_cell_1/write/Reshape_2',\n",
       " u'ntm_cell_1/write/Reshape_3/shape',\n",
       " u'ntm_cell_1/write/Reshape_3',\n",
       " u'ntm_cell_1/write/MatMul_1',\n",
       " u'ntm_cell_1/write/packed_1',\n",
       " u'ntm_cell_1/write/add_1',\n",
       " u'ntm_cell_1/write/content_based_addressing/cos_similarity/split/split_dim',\n",
       " u'ntm_cell_1/write/content_based_addressing/cos_similarity/split',\n",
       " u'ntm_cell_1/write/content_based_addressing/cos_similarity/split_1/split_dim',\n",
       " u'ntm_cell_1/write/content_based_addressing/cos_similarity/split_1',\n",
       " u'ntm_cell_1/write/content_based_addressing/cos_similarity/Squeeze',\n",
       " u'ntm_cell_1/write/content_based_addressing/cos_similarity/mul',\n",
       " u'ntm_cell_1/write/content_based_addressing/cos_similarity/Sum/reduction_indices',\n",
       " u'ntm_cell_1/write/content_based_addressing/cos_similarity/Sum',\n",
       " u'ntm_cell_1/write/content_based_addressing/cos_similarity/packed',\n",
       " u'ntm_cell_1/write/content_based_addressing/cos_similarity/Square',\n",
       " u'ntm_cell_1/write/content_based_addressing/cos_similarity/Sum_1/reduction_indices',\n",
       " u'ntm_cell_1/write/content_based_addressing/cos_similarity/Sum_1',\n",
       " u'ntm_cell_1/write/content_based_addressing/cos_similarity/Sqrt',\n",
       " u'ntm_cell_1/write/content_based_addressing/cos_similarity/Square_1',\n",
       " u'ntm_cell_1/write/content_based_addressing/cos_similarity/Sum_2/reduction_indices',\n",
       " u'ntm_cell_1/write/content_based_addressing/cos_similarity/Sum_2',\n",
       " u'ntm_cell_1/write/content_based_addressing/cos_similarity/Sqrt_1',\n",
       " u'ntm_cell_1/write/content_based_addressing/cos_similarity/Reshape/shape',\n",
       " u'ntm_cell_1/write/content_based_addressing/cos_similarity/Reshape',\n",
       " u'ntm_cell_1/write/content_based_addressing/cos_similarity/mul_1',\n",
       " u'ntm_cell_1/write/content_based_addressing/cos_similarity/add/y',\n",
       " u'ntm_cell_1/write/content_based_addressing/cos_similarity/add',\n",
       " u'ntm_cell_1/write/content_based_addressing/cos_similarity/div',\n",
       " u'ntm_cell_1/write/content_based_addressing/mul',\n",
       " u'ntm_cell_1/write/content_based_addressing/content_weighting',\n",
       " u'ntm_cell_1/write/location_based_addressing/mul',\n",
       " u'ntm_cell_1/write/location_based_addressing/ones_like/Shape',\n",
       " u'ntm_cell_1/write/location_based_addressing/ones_like/Const',\n",
       " u'ntm_cell_1/write/location_based_addressing/ones_like',\n",
       " u'ntm_cell_1/write/location_based_addressing/sub',\n",
       " u'ntm_cell_1/write/location_based_addressing/mul_1',\n",
       " u'ntm_cell_1/write/location_based_addressing/add',\n",
       " u'ntm_cell_1/write/location_based_addressing/circular_conv/gather_cols/indices',\n",
       " u'ntm_cell_1/write/location_based_addressing/circular_conv/gather_cols/Shape',\n",
       " u'ntm_cell_1/write/location_based_addressing/circular_conv/gather_cols/Reshape/shape',\n",
       " u'ntm_cell_1/write/location_based_addressing/circular_conv/gather_cols/Reshape',\n",
       " u'ntm_cell_1/write/location_based_addressing/circular_conv/gather_cols/Slice/begin',\n",
       " u'ntm_cell_1/write/location_based_addressing/circular_conv/gather_cols/Slice/size',\n",
       " u'ntm_cell_1/write/location_based_addressing/circular_conv/gather_cols/Slice',\n",
       " u'ntm_cell_1/write/location_based_addressing/circular_conv/gather_cols/Squeeze',\n",
       " u'ntm_cell_1/write/location_based_addressing/circular_conv/gather_cols/range/start',\n",
       " u'ntm_cell_1/write/location_based_addressing/circular_conv/gather_cols/range/delta',\n",
       " u'ntm_cell_1/write/location_based_addressing/circular_conv/gather_cols/range',\n",
       " u'ntm_cell_1/write/location_based_addressing/circular_conv/gather_cols/Slice_1/begin',\n",
       " u'ntm_cell_1/write/location_based_addressing/circular_conv/gather_cols/Slice_1/size',\n",
       " u'ntm_cell_1/write/location_based_addressing/circular_conv/gather_cols/Slice_1',\n",
       " u'ntm_cell_1/write/location_based_addressing/circular_conv/gather_cols/Squeeze_1',\n",
       " u'ntm_cell_1/write/location_based_addressing/circular_conv/gather_cols/mul',\n",
       " u'ntm_cell_1/write/location_based_addressing/circular_conv/gather_cols/Reshape_1/shape',\n",
       " u'ntm_cell_1/write/location_based_addressing/circular_conv/gather_cols/Reshape_1',\n",
       " u'ntm_cell_1/write/location_based_addressing/circular_conv/gather_cols/add',\n",
       " u'ntm_cell_1/write/location_based_addressing/circular_conv/gather_cols/Reshape_2/shape',\n",
       " u'ntm_cell_1/write/location_based_addressing/circular_conv/gather_cols/Reshape_2',\n",
       " u'ntm_cell_1/write/location_based_addressing/circular_conv/gather_cols/Gather',\n",
       " u'ntm_cell_1/write/location_based_addressing/circular_conv/gather_cols/Slice_2/begin',\n",
       " u'ntm_cell_1/write/location_based_addressing/circular_conv/gather_cols/Slice_2/size',\n",
       " u'ntm_cell_1/write/location_based_addressing/circular_conv/gather_cols/Slice_2',\n",
       " u'ntm_cell_1/write/location_based_addressing/circular_conv/gather_cols/Squeeze_2',\n",
       " u'ntm_cell_1/write/location_based_addressing/circular_conv/gather_cols/Reshape_3/shape/1',\n",
       " u'ntm_cell_1/write/location_based_addressing/circular_conv/gather_cols/Reshape_3/shape',\n",
       " u'ntm_cell_1/write/location_based_addressing/circular_conv/gather_cols/Reshape_3',\n",
       " u'ntm_cell_1/write/location_based_addressing/circular_conv/mul',\n",
       " u'ntm_cell_1/write/location_based_addressing/circular_conv/Sum/reduction_indices',\n",
       " u'ntm_cell_1/write/location_based_addressing/circular_conv/Sum',\n",
       " u'ntm_cell_1/write/location_based_addressing/circular_conv/gather_cols_1/indices',\n",
       " u'ntm_cell_1/write/location_based_addressing/circular_conv/gather_cols_1/Shape',\n",
       " u'ntm_cell_1/write/location_based_addressing/circular_conv/gather_cols_1/Reshape/shape',\n",
       " u'ntm_cell_1/write/location_based_addressing/circular_conv/gather_cols_1/Reshape',\n",
       " u'ntm_cell_1/write/location_based_addressing/circular_conv/gather_cols_1/Slice/begin',\n",
       " u'ntm_cell_1/write/location_based_addressing/circular_conv/gather_cols_1/Slice/size',\n",
       " u'ntm_cell_1/write/location_based_addressing/circular_conv/gather_cols_1/Slice',\n",
       " u'ntm_cell_1/write/location_based_addressing/circular_conv/gather_cols_1/Squeeze',\n",
       " u'ntm_cell_1/write/location_based_addressing/circular_conv/gather_cols_1/range/start',\n",
       " u'ntm_cell_1/write/location_based_addressing/circular_conv/gather_cols_1/range/delta',\n",
       " u'ntm_cell_1/write/location_based_addressing/circular_conv/gather_cols_1/range',\n",
       " u'ntm_cell_1/write/location_based_addressing/circular_conv/gather_cols_1/Slice_1/begin',\n",
       " u'ntm_cell_1/write/location_based_addressing/circular_conv/gather_cols_1/Slice_1/size',\n",
       " u'ntm_cell_1/write/location_based_addressing/circular_conv/gather_cols_1/Slice_1',\n",
       " u'ntm_cell_1/write/location_based_addressing/circular_conv/gather_cols_1/Squeeze_1',\n",
       " u'ntm_cell_1/write/location_based_addressing/circular_conv/gather_cols_1/mul',\n",
       " u'ntm_cell_1/write/location_based_addressing/circular_conv/gather_cols_1/Reshape_1/shape',\n",
       " u'ntm_cell_1/write/location_based_addressing/circular_conv/gather_cols_1/Reshape_1',\n",
       " u'ntm_cell_1/write/location_based_addressing/circular_conv/gather_cols_1/add',\n",
       " u'ntm_cell_1/write/location_based_addressing/circular_conv/gather_cols_1/Reshape_2/shape',\n",
       " u'ntm_cell_1/write/location_based_addressing/circular_conv/gather_cols_1/Reshape_2',\n",
       " u'ntm_cell_1/write/location_based_addressing/circular_conv/gather_cols_1/Gather',\n",
       " u'ntm_cell_1/write/location_based_addressing/circular_conv/gather_cols_1/Slice_2/begin',\n",
       " u'ntm_cell_1/write/location_based_addressing/circular_conv/gather_cols_1/Slice_2/size',\n",
       " u'ntm_cell_1/write/location_based_addressing/circular_conv/gather_cols_1/Slice_2',\n",
       " u'ntm_cell_1/write/location_based_addressing/circular_conv/gather_cols_1/Squeeze_2',\n",
       " u'ntm_cell_1/write/location_based_addressing/circular_conv/gather_cols_1/Reshape_3/shape/1',\n",
       " u'ntm_cell_1/write/location_based_addressing/circular_conv/gather_cols_1/Reshape_3/shape',\n",
       " u'ntm_cell_1/write/location_based_addressing/circular_conv/gather_cols_1/Reshape_3',\n",
       " u'ntm_cell_1/write/location_based_addressing/circular_conv/mul_1',\n",
       " u'ntm_cell_1/write/location_based_addressing/circular_conv/Sum_1/reduction_indices',\n",
       " u'ntm_cell_1/write/location_based_addressing/circular_conv/Sum_1',\n",
       " u'ntm_cell_1/write/location_based_addressing/circular_conv/transpose/Rank/input',\n",
       " u'ntm_cell_1/write/location_based_addressing/circular_conv/transpose/Rank',\n",
       " u'ntm_cell_1/write/location_based_addressing/circular_conv/transpose/sub/y',\n",
       " u'ntm_cell_1/write/location_based_addressing/circular_conv/transpose/sub',\n",
       " u'ntm_cell_1/write/location_based_addressing/circular_conv/transpose/Range/start',\n",
       " u'ntm_cell_1/write/location_based_addressing/circular_conv/transpose/Range/delta',\n",
       " u'ntm_cell_1/write/location_based_addressing/circular_conv/transpose/Range',\n",
       " u'ntm_cell_1/write/location_based_addressing/circular_conv/transpose/sub_1',\n",
       " u'ntm_cell_1/write/location_based_addressing/circular_conv/transpose/x',\n",
       " u'ntm_cell_1/write/location_based_addressing/circular_conv/transpose',\n",
       " u'ntm_cell_1/write/location_based_addressing/Pow',\n",
       " u'ntm_cell_1/write/location_based_addressing/Softmax',\n",
       " u'ntm_cell_1/read/Reshape/shape',\n",
       " u'ntm_cell_1/read/Reshape',\n",
       " u'ntm_cell_1/read/Mul',\n",
       " u'ntm_cell_1/read/Sum/reduction_indices',\n",
       " u'ntm_cell_1/read/Sum',\n",
       " u'ntm_cell_1/read/content_based_addressing/cos_similarity/split/split_dim',\n",
       " u'ntm_cell_1/read/content_based_addressing/cos_similarity/split',\n",
       " u'ntm_cell_1/read/content_based_addressing/cos_similarity/split_1/split_dim',\n",
       " u'ntm_cell_1/read/content_based_addressing/cos_similarity/split_1',\n",
       " u'ntm_cell_1/read/content_based_addressing/cos_similarity/Squeeze',\n",
       " u'ntm_cell_1/read/content_based_addressing/cos_similarity/mul',\n",
       " u'ntm_cell_1/read/content_based_addressing/cos_similarity/Sum/reduction_indices',\n",
       " u'ntm_cell_1/read/content_based_addressing/cos_similarity/Sum',\n",
       " u'ntm_cell_1/read/content_based_addressing/cos_similarity/packed',\n",
       " u'ntm_cell_1/read/content_based_addressing/cos_similarity/Square',\n",
       " u'ntm_cell_1/read/content_based_addressing/cos_similarity/Sum_1/reduction_indices',\n",
       " u'ntm_cell_1/read/content_based_addressing/cos_similarity/Sum_1',\n",
       " u'ntm_cell_1/read/content_based_addressing/cos_similarity/Sqrt',\n",
       " u'ntm_cell_1/read/content_based_addressing/cos_similarity/Square_1',\n",
       " u'ntm_cell_1/read/content_based_addressing/cos_similarity/Sum_2/reduction_indices',\n",
       " u'ntm_cell_1/read/content_based_addressing/cos_similarity/Sum_2',\n",
       " u'ntm_cell_1/read/content_based_addressing/cos_similarity/Sqrt_1',\n",
       " u'ntm_cell_1/read/content_based_addressing/cos_similarity/Reshape/shape',\n",
       " u'ntm_cell_1/read/content_based_addressing/cos_similarity/Reshape',\n",
       " u'ntm_cell_1/read/content_based_addressing/cos_similarity/mul_1',\n",
       " u'ntm_cell_1/read/content_based_addressing/cos_similarity/add/y',\n",
       " u'ntm_cell_1/read/content_based_addressing/cos_similarity/add',\n",
       " u'ntm_cell_1/read/content_based_addressing/cos_similarity/div',\n",
       " u'ntm_cell_1/read/content_based_addressing/mul',\n",
       " u'ntm_cell_1/read/content_based_addressing/content_weighting',\n",
       " u'ntm_cell_1/read/location_based_addressing/mul',\n",
       " u'ntm_cell_1/read/location_based_addressing/ones_like/Shape',\n",
       " u'ntm_cell_1/read/location_based_addressing/ones_like/Const',\n",
       " u'ntm_cell_1/read/location_based_addressing/ones_like',\n",
       " u'ntm_cell_1/read/location_based_addressing/sub',\n",
       " u'ntm_cell_1/read/location_based_addressing/mul_1',\n",
       " u'ntm_cell_1/read/location_based_addressing/add',\n",
       " u'ntm_cell_1/read/location_based_addressing/circular_conv/gather_cols/indices',\n",
       " u'ntm_cell_1/read/location_based_addressing/circular_conv/gather_cols/Shape',\n",
       " u'ntm_cell_1/read/location_based_addressing/circular_conv/gather_cols/Reshape/shape',\n",
       " u'ntm_cell_1/read/location_based_addressing/circular_conv/gather_cols/Reshape',\n",
       " u'ntm_cell_1/read/location_based_addressing/circular_conv/gather_cols/Slice/begin',\n",
       " u'ntm_cell_1/read/location_based_addressing/circular_conv/gather_cols/Slice/size',\n",
       " u'ntm_cell_1/read/location_based_addressing/circular_conv/gather_cols/Slice',\n",
       " u'ntm_cell_1/read/location_based_addressing/circular_conv/gather_cols/Squeeze',\n",
       " u'ntm_cell_1/read/location_based_addressing/circular_conv/gather_cols/range/start',\n",
       " u'ntm_cell_1/read/location_based_addressing/circular_conv/gather_cols/range/delta',\n",
       " u'ntm_cell_1/read/location_based_addressing/circular_conv/gather_cols/range',\n",
       " u'ntm_cell_1/read/location_based_addressing/circular_conv/gather_cols/Slice_1/begin',\n",
       " u'ntm_cell_1/read/location_based_addressing/circular_conv/gather_cols/Slice_1/size',\n",
       " u'ntm_cell_1/read/location_based_addressing/circular_conv/gather_cols/Slice_1',\n",
       " u'ntm_cell_1/read/location_based_addressing/circular_conv/gather_cols/Squeeze_1',\n",
       " u'ntm_cell_1/read/location_based_addressing/circular_conv/gather_cols/mul',\n",
       " u'ntm_cell_1/read/location_based_addressing/circular_conv/gather_cols/Reshape_1/shape',\n",
       " u'ntm_cell_1/read/location_based_addressing/circular_conv/gather_cols/Reshape_1',\n",
       " u'ntm_cell_1/read/location_based_addressing/circular_conv/gather_cols/add',\n",
       " u'ntm_cell_1/read/location_based_addressing/circular_conv/gather_cols/Reshape_2/shape',\n",
       " u'ntm_cell_1/read/location_based_addressing/circular_conv/gather_cols/Reshape_2',\n",
       " u'ntm_cell_1/read/location_based_addressing/circular_conv/gather_cols/Gather',\n",
       " u'ntm_cell_1/read/location_based_addressing/circular_conv/gather_cols/Slice_2/begin',\n",
       " u'ntm_cell_1/read/location_based_addressing/circular_conv/gather_cols/Slice_2/size',\n",
       " u'ntm_cell_1/read/location_based_addressing/circular_conv/gather_cols/Slice_2',\n",
       " u'ntm_cell_1/read/location_based_addressing/circular_conv/gather_cols/Squeeze_2',\n",
       " u'ntm_cell_1/read/location_based_addressing/circular_conv/gather_cols/Reshape_3/shape/1',\n",
       " u'ntm_cell_1/read/location_based_addressing/circular_conv/gather_cols/Reshape_3/shape',\n",
       " u'ntm_cell_1/read/location_based_addressing/circular_conv/gather_cols/Reshape_3',\n",
       " u'ntm_cell_1/read/location_based_addressing/circular_conv/mul',\n",
       " u'ntm_cell_1/read/location_based_addressing/circular_conv/Sum/reduction_indices',\n",
       " u'ntm_cell_1/read/location_based_addressing/circular_conv/Sum',\n",
       " u'ntm_cell_1/read/location_based_addressing/circular_conv/gather_cols_1/indices',\n",
       " u'ntm_cell_1/read/location_based_addressing/circular_conv/gather_cols_1/Shape',\n",
       " u'ntm_cell_1/read/location_based_addressing/circular_conv/gather_cols_1/Reshape/shape',\n",
       " u'ntm_cell_1/read/location_based_addressing/circular_conv/gather_cols_1/Reshape',\n",
       " u'ntm_cell_1/read/location_based_addressing/circular_conv/gather_cols_1/Slice/begin',\n",
       " u'ntm_cell_1/read/location_based_addressing/circular_conv/gather_cols_1/Slice/size',\n",
       " u'ntm_cell_1/read/location_based_addressing/circular_conv/gather_cols_1/Slice',\n",
       " u'ntm_cell_1/read/location_based_addressing/circular_conv/gather_cols_1/Squeeze',\n",
       " u'ntm_cell_1/read/location_based_addressing/circular_conv/gather_cols_1/range/start',\n",
       " u'ntm_cell_1/read/location_based_addressing/circular_conv/gather_cols_1/range/delta',\n",
       " u'ntm_cell_1/read/location_based_addressing/circular_conv/gather_cols_1/range',\n",
       " u'ntm_cell_1/read/location_based_addressing/circular_conv/gather_cols_1/Slice_1/begin',\n",
       " u'ntm_cell_1/read/location_based_addressing/circular_conv/gather_cols_1/Slice_1/size',\n",
       " u'ntm_cell_1/read/location_based_addressing/circular_conv/gather_cols_1/Slice_1',\n",
       " u'ntm_cell_1/read/location_based_addressing/circular_conv/gather_cols_1/Squeeze_1',\n",
       " u'ntm_cell_1/read/location_based_addressing/circular_conv/gather_cols_1/mul',\n",
       " u'ntm_cell_1/read/location_based_addressing/circular_conv/gather_cols_1/Reshape_1/shape',\n",
       " u'ntm_cell_1/read/location_based_addressing/circular_conv/gather_cols_1/Reshape_1',\n",
       " u'ntm_cell_1/read/location_based_addressing/circular_conv/gather_cols_1/add',\n",
       " u'ntm_cell_1/read/location_based_addressing/circular_conv/gather_cols_1/Reshape_2/shape',\n",
       " u'ntm_cell_1/read/location_based_addressing/circular_conv/gather_cols_1/Reshape_2',\n",
       " u'ntm_cell_1/read/location_based_addressing/circular_conv/gather_cols_1/Gather',\n",
       " u'ntm_cell_1/read/location_based_addressing/circular_conv/gather_cols_1/Slice_2/begin',\n",
       " u'ntm_cell_1/read/location_based_addressing/circular_conv/gather_cols_1/Slice_2/size',\n",
       " u'ntm_cell_1/read/location_based_addressing/circular_conv/gather_cols_1/Slice_2',\n",
       " u'ntm_cell_1/read/location_based_addressing/circular_conv/gather_cols_1/Squeeze_2',\n",
       " u'ntm_cell_1/read/location_based_addressing/circular_conv/gather_cols_1/Reshape_3/shape/1',\n",
       " u'ntm_cell_1/read/location_based_addressing/circular_conv/gather_cols_1/Reshape_3/shape',\n",
       " u'ntm_cell_1/read/location_based_addressing/circular_conv/gather_cols_1/Reshape_3',\n",
       " u'ntm_cell_1/read/location_based_addressing/circular_conv/mul_1',\n",
       " u'ntm_cell_1/read/location_based_addressing/circular_conv/Sum_1/reduction_indices',\n",
       " u'ntm_cell_1/read/location_based_addressing/circular_conv/Sum_1',\n",
       " u'ntm_cell_1/read/location_based_addressing/circular_conv/transpose/Rank/input',\n",
       " u'ntm_cell_1/read/location_based_addressing/circular_conv/transpose/Rank',\n",
       " u'ntm_cell_1/read/location_based_addressing/circular_conv/transpose/sub/y',\n",
       " u'ntm_cell_1/read/location_based_addressing/circular_conv/transpose/sub',\n",
       " u'ntm_cell_1/read/location_based_addressing/circular_conv/transpose/Range/start',\n",
       " u'ntm_cell_1/read/location_based_addressing/circular_conv/transpose/Range/delta',\n",
       " u'ntm_cell_1/read/location_based_addressing/circular_conv/transpose/Range',\n",
       " u'ntm_cell_1/read/location_based_addressing/circular_conv/transpose/sub_1',\n",
       " u'ntm_cell_1/read/location_based_addressing/circular_conv/transpose/x',\n",
       " u'ntm_cell_1/read/location_based_addressing/circular_conv/transpose',\n",
       " u'ntm_cell_1/read/location_based_addressing/Pow',\n",
       " u'ntm_cell_1/read/location_based_addressing/Softmax',\n",
       " u'init_1']"
      ]
     },
     "execution_count": 33,
     "metadata": {},
     "output_type": "execute_result"
    }
   ],
   "source": [
    "a"
   ]
  },
  {
   "cell_type": "code",
   "execution_count": null,
   "metadata": {
    "collapsed": true
   },
   "outputs": [],
   "source": [
    ""
   ]
  }
 ],
 "metadata": {
  "anaconda-cloud": {},
  "kernelspec": {
   "display_name": "Python 2",
   "language": "python",
   "name": "python2"
  },
  "language_info": {
   "codemirror_mode": {
    "name": "ipython",
    "version": 2.0
   },
   "file_extension": ".py",
   "mimetype": "text/x-python",
   "name": "python",
   "nbconvert_exporter": "python",
   "pygments_lexer": "ipython2",
   "version": "2.7.12"
  }
 },
 "nbformat": 4,
 "nbformat_minor": 0
}